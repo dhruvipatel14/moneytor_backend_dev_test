{
 "cells": [
  {
   "cell_type": "markdown",
   "metadata": {},
   "source": [
    "Implement a program which will take 2 parameters as input 'a' and 'b' and return a^b as output. Eg. If a is 5 and b is 3, then the output will be 5^3 = 125. Bonus - Implement this program using recursion. Constraints: 1<= a,b <= 10"
   ]
  },
  {
   "cell_type": "code",
   "execution_count": 7,
   "metadata": {},
   "outputs": [
    {
     "name": "stdout",
     "output_type": "stream",
     "text": [
      "4\n",
      "5\n",
      "1024\n"
     ]
    }
   ],
   "source": [
    "def power(a,b):\n",
    "    if(b == 0):\n",
    "        return 1\n",
    "    temp = power(a,int(b/2))\n",
    "    if(b %2 == 0):\n",
    "        return temp * temp\n",
    "    else:\n",
    "        if(b > 0): return a * temp * temp \n",
    "        else: return (temp * temp) / a \n",
    "      \n",
    "    \n",
    "a = int(input())\n",
    "b = int(input())\n",
    "print(power(a,b))"
   ]
  },
  {
   "cell_type": "markdown",
   "metadata": {},
   "source": [
    "Implement a program which will take an array as an input and remove the duplicates from it. Eg. If [1,2,3,4,4,2,1,5,1,4,5] is the input, then the output should be [1,2,3,4,5]. Bonus - Implement this function in O(nlogn) time complexity and O(1) space complexity. Constraints: 1 <= array length <= 1000000"
   ]
  },
  {
   "cell_type": "code",
   "execution_count": 6,
   "metadata": {},
   "outputs": [
    {
     "name": "stdout",
     "output_type": "stream",
     "text": [
      "13 2 1 2 1 1 4 5 6 7 3 2 \n",
      "[1, 2, 3, 4, 5, 6, 7, 13]\n"
     ]
    }
   ],
   "source": [
    "def removedup(a):\n",
    "    a = list(set(a))\n",
    "    \n",
    "    return a\n",
    "\n",
    "a = list(map(int,input().split()))\n",
    "print(removedup(a))"
   ]
  },
  {
   "cell_type": "markdown",
   "metadata": {},
   "source": [
    "Implement a program which will take 1 parameter as input and print fibonacci numbers upto that input. Constraints: 1 <= n <= 1000000"
   ]
  },
  {
   "cell_type": "code",
   "execution_count": 5,
   "metadata": {},
   "outputs": [
    {
     "name": "stdout",
     "output_type": "stream",
     "text": [
      "14\n",
      "0\n",
      "1\n",
      "1\n",
      "2\n",
      "3\n",
      "5\n",
      "8\n",
      "13\n",
      "21\n",
      "34\n",
      "55\n",
      "89\n",
      "144\n"
     ]
    }
   ],
   "source": [
    "def fibbo(n):\n",
    "    t1 = 0\n",
    "    t2 = 1\n",
    "    for i in range(1,n):\n",
    "        print(t1)\n",
    "        nextterm = t1 + t2\n",
    "        t1 = t2\n",
    "        t2 = nextterm\n",
    "n = int(input())\n",
    "fibbo(n)"
   ]
  },
  {
   "cell_type": "code",
   "execution_count": null,
   "metadata": {},
   "outputs": [],
   "source": []
  }
 ],
 "metadata": {
  "kernelspec": {
   "display_name": "Python 3",
   "language": "python",
   "name": "python3"
  },
  "language_info": {
   "codemirror_mode": {
    "name": "ipython",
    "version": 3
   },
   "file_extension": ".py",
   "mimetype": "text/x-python",
   "name": "python",
   "nbconvert_exporter": "python",
   "pygments_lexer": "ipython3",
   "version": "3.7.4"
  }
 },
 "nbformat": 4,
 "nbformat_minor": 2
}
